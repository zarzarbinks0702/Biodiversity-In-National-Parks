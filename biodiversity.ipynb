{
 "cells": [
  {
   "cell_type": "markdown",
   "metadata": {},
   "source": [
    "# Biodiversity in National Parks"
   ]
  },
  {
   "cell_type": "markdown",
   "metadata": {},
   "source": [
    "This project aims to answer a few questions about biodiversity in some of the USA's national parks.\n",
    "The questions are as follows:"
   ]
  },
  {
   "cell_type": "markdown",
   "metadata": {},
   "source": [
    "-How many species from each category are considered endangered? "
   ]
  },
  {
   "cell_type": "markdown",
   "metadata": {},
   "source": [
    "-What is the most common species from each sub-category of plant/animal? "
   ]
  },
  {
   "cell_type": "markdown",
   "metadata": {},
   "source": [
    "-Which park has the most unique species?"
   ]
  },
  {
   "cell_type": "markdown",
   "metadata": {},
   "source": [
    "# Importing and Cleaning the Data"
   ]
  },
  {
   "cell_type": "code",
   "execution_count": 1,
   "metadata": {},
   "outputs": [],
   "source": [
    "#importing libraries and dependencies\n",
    "import pandas as pd\n",
    "import numpy as np\n",
    "import matplotlib.pyplot as plt"
   ]
  },
  {
   "cell_type": "code",
   "execution_count": 2,
   "metadata": {},
   "outputs": [
    {
     "data": {
      "text/html": [
       "<div>\n",
       "<style scoped>\n",
       "    .dataframe tbody tr th:only-of-type {\n",
       "        vertical-align: middle;\n",
       "    }\n",
       "\n",
       "    .dataframe tbody tr th {\n",
       "        vertical-align: top;\n",
       "    }\n",
       "\n",
       "    .dataframe thead th {\n",
       "        text-align: right;\n",
       "    }\n",
       "</style>\n",
       "<table border=\"1\" class=\"dataframe\">\n",
       "  <thead>\n",
       "    <tr style=\"text-align: right;\">\n",
       "      <th></th>\n",
       "      <th>scientific_name</th>\n",
       "      <th>park_name</th>\n",
       "      <th>observations</th>\n",
       "    </tr>\n",
       "  </thead>\n",
       "  <tbody>\n",
       "    <tr>\n",
       "      <th>0</th>\n",
       "      <td>Vicia benghalensis</td>\n",
       "      <td>Great Smoky Mountains National Park</td>\n",
       "      <td>68</td>\n",
       "    </tr>\n",
       "    <tr>\n",
       "      <th>1</th>\n",
       "      <td>Neovison vison</td>\n",
       "      <td>Great Smoky Mountains National Park</td>\n",
       "      <td>77</td>\n",
       "    </tr>\n",
       "    <tr>\n",
       "      <th>2</th>\n",
       "      <td>Prunus subcordata</td>\n",
       "      <td>Yosemite National Park</td>\n",
       "      <td>138</td>\n",
       "    </tr>\n",
       "    <tr>\n",
       "      <th>3</th>\n",
       "      <td>Abutilon theophrasti</td>\n",
       "      <td>Bryce National Park</td>\n",
       "      <td>84</td>\n",
       "    </tr>\n",
       "    <tr>\n",
       "      <th>4</th>\n",
       "      <td>Githopsis specularioides</td>\n",
       "      <td>Great Smoky Mountains National Park</td>\n",
       "      <td>85</td>\n",
       "    </tr>\n",
       "  </tbody>\n",
       "</table>\n",
       "</div>"
      ],
      "text/plain": [
       "            scientific_name                            park_name  observations\n",
       "0        Vicia benghalensis  Great Smoky Mountains National Park            68\n",
       "1            Neovison vison  Great Smoky Mountains National Park            77\n",
       "2         Prunus subcordata               Yosemite National Park           138\n",
       "3      Abutilon theophrasti                  Bryce National Park            84\n",
       "4  Githopsis specularioides  Great Smoky Mountains National Park            85"
      ]
     },
     "execution_count": 2,
     "metadata": {},
     "output_type": "execute_result"
    }
   ],
   "source": [
    "#reading in the observations csv and doing base cleaning\n",
    "observations_df = pd.read_csv('data/observations.csv')\n",
    "\n",
    "observations_df.head()"
   ]
  },
  {
   "cell_type": "code",
   "execution_count": 3,
   "metadata": {},
   "outputs": [
    {
     "data": {
      "text/html": [
       "<div>\n",
       "<style scoped>\n",
       "    .dataframe tbody tr th:only-of-type {\n",
       "        vertical-align: middle;\n",
       "    }\n",
       "\n",
       "    .dataframe tbody tr th {\n",
       "        vertical-align: top;\n",
       "    }\n",
       "\n",
       "    .dataframe thead th {\n",
       "        text-align: right;\n",
       "    }\n",
       "</style>\n",
       "<table border=\"1\" class=\"dataframe\">\n",
       "  <thead>\n",
       "    <tr style=\"text-align: right;\">\n",
       "      <th></th>\n",
       "      <th>category</th>\n",
       "      <th>scientific_name</th>\n",
       "      <th>common_names</th>\n",
       "      <th>conservation_status</th>\n",
       "    </tr>\n",
       "  </thead>\n",
       "  <tbody>\n",
       "    <tr>\n",
       "      <th>0</th>\n",
       "      <td>Mammal</td>\n",
       "      <td>Clethrionomys gapperi gapperi</td>\n",
       "      <td>Gapper's Red-Backed Vole</td>\n",
       "      <td>NaN</td>\n",
       "    </tr>\n",
       "    <tr>\n",
       "      <th>1</th>\n",
       "      <td>Mammal</td>\n",
       "      <td>Bos bison</td>\n",
       "      <td>American Bison, Bison</td>\n",
       "      <td>NaN</td>\n",
       "    </tr>\n",
       "    <tr>\n",
       "      <th>2</th>\n",
       "      <td>Mammal</td>\n",
       "      <td>Bos taurus</td>\n",
       "      <td>Aurochs, Aurochs, Domestic Cattle (Feral), Dom...</td>\n",
       "      <td>NaN</td>\n",
       "    </tr>\n",
       "    <tr>\n",
       "      <th>3</th>\n",
       "      <td>Mammal</td>\n",
       "      <td>Ovis aries</td>\n",
       "      <td>Domestic Sheep, Mouflon, Red Sheep, Sheep (Feral)</td>\n",
       "      <td>NaN</td>\n",
       "    </tr>\n",
       "    <tr>\n",
       "      <th>4</th>\n",
       "      <td>Mammal</td>\n",
       "      <td>Cervus elaphus</td>\n",
       "      <td>Wapiti Or Elk</td>\n",
       "      <td>NaN</td>\n",
       "    </tr>\n",
       "  </tbody>\n",
       "</table>\n",
       "</div>"
      ],
      "text/plain": [
       "  category                scientific_name  \\\n",
       "0   Mammal  Clethrionomys gapperi gapperi   \n",
       "1   Mammal                      Bos bison   \n",
       "2   Mammal                     Bos taurus   \n",
       "3   Mammal                     Ovis aries   \n",
       "4   Mammal                 Cervus elaphus   \n",
       "\n",
       "                                        common_names conservation_status  \n",
       "0                           Gapper's Red-Backed Vole                 NaN  \n",
       "1                              American Bison, Bison                 NaN  \n",
       "2  Aurochs, Aurochs, Domestic Cattle (Feral), Dom...                 NaN  \n",
       "3  Domestic Sheep, Mouflon, Red Sheep, Sheep (Feral)                 NaN  \n",
       "4                                      Wapiti Or Elk                 NaN  "
      ]
     },
     "execution_count": 3,
     "metadata": {},
     "output_type": "execute_result"
    }
   ],
   "source": [
    "#reading in the species_info csv and doing base cleaning\n",
    "species_df = pd.read_csv('data/species_info.csv')\n",
    "\n",
    "species_df.head()"
   ]
  },
  {
   "cell_type": "code",
   "execution_count": 4,
   "metadata": {},
   "outputs": [
    {
     "data": {
      "text/html": [
       "<div>\n",
       "<style scoped>\n",
       "    .dataframe tbody tr th:only-of-type {\n",
       "        vertical-align: middle;\n",
       "    }\n",
       "\n",
       "    .dataframe tbody tr th {\n",
       "        vertical-align: top;\n",
       "    }\n",
       "\n",
       "    .dataframe thead th {\n",
       "        text-align: right;\n",
       "    }\n",
       "</style>\n",
       "<table border=\"1\" class=\"dataframe\">\n",
       "  <thead>\n",
       "    <tr style=\"text-align: right;\">\n",
       "      <th></th>\n",
       "      <th>scientific_name</th>\n",
       "      <th>park_name</th>\n",
       "      <th>observations</th>\n",
       "      <th>category</th>\n",
       "      <th>common_names</th>\n",
       "      <th>conservation_status</th>\n",
       "    </tr>\n",
       "  </thead>\n",
       "  <tbody>\n",
       "    <tr>\n",
       "      <th>0</th>\n",
       "      <td>Vicia benghalensis</td>\n",
       "      <td>Great Smoky Mountains National Park</td>\n",
       "      <td>68</td>\n",
       "      <td>Vascular Plant</td>\n",
       "      <td>Purple Vetch, Reddish Tufted Vetch</td>\n",
       "      <td>NaN</td>\n",
       "    </tr>\n",
       "    <tr>\n",
       "      <th>1</th>\n",
       "      <td>Vicia benghalensis</td>\n",
       "      <td>Yosemite National Park</td>\n",
       "      <td>148</td>\n",
       "      <td>Vascular Plant</td>\n",
       "      <td>Purple Vetch, Reddish Tufted Vetch</td>\n",
       "      <td>NaN</td>\n",
       "    </tr>\n",
       "    <tr>\n",
       "      <th>2</th>\n",
       "      <td>Vicia benghalensis</td>\n",
       "      <td>Yellowstone National Park</td>\n",
       "      <td>247</td>\n",
       "      <td>Vascular Plant</td>\n",
       "      <td>Purple Vetch, Reddish Tufted Vetch</td>\n",
       "      <td>NaN</td>\n",
       "    </tr>\n",
       "    <tr>\n",
       "      <th>3</th>\n",
       "      <td>Vicia benghalensis</td>\n",
       "      <td>Bryce National Park</td>\n",
       "      <td>104</td>\n",
       "      <td>Vascular Plant</td>\n",
       "      <td>Purple Vetch, Reddish Tufted Vetch</td>\n",
       "      <td>NaN</td>\n",
       "    </tr>\n",
       "    <tr>\n",
       "      <th>4</th>\n",
       "      <td>Neovison vison</td>\n",
       "      <td>Great Smoky Mountains National Park</td>\n",
       "      <td>77</td>\n",
       "      <td>Mammal</td>\n",
       "      <td>American Mink</td>\n",
       "      <td>NaN</td>\n",
       "    </tr>\n",
       "  </tbody>\n",
       "</table>\n",
       "</div>"
      ],
      "text/plain": [
       "      scientific_name                            park_name  observations  \\\n",
       "0  Vicia benghalensis  Great Smoky Mountains National Park            68   \n",
       "1  Vicia benghalensis               Yosemite National Park           148   \n",
       "2  Vicia benghalensis            Yellowstone National Park           247   \n",
       "3  Vicia benghalensis                  Bryce National Park           104   \n",
       "4      Neovison vison  Great Smoky Mountains National Park            77   \n",
       "\n",
       "         category                        common_names conservation_status  \n",
       "0  Vascular Plant  Purple Vetch, Reddish Tufted Vetch                 NaN  \n",
       "1  Vascular Plant  Purple Vetch, Reddish Tufted Vetch                 NaN  \n",
       "2  Vascular Plant  Purple Vetch, Reddish Tufted Vetch                 NaN  \n",
       "3  Vascular Plant  Purple Vetch, Reddish Tufted Vetch                 NaN  \n",
       "4          Mammal                       American Mink                 NaN  "
      ]
     },
     "execution_count": 4,
     "metadata": {},
     "output_type": "execute_result"
    }
   ],
   "source": [
    "#merging the 2 df into one\n",
    "biodiversity_df = observations_df.merge(species_df, on='scientific_name')\n",
    "\n",
    "biodiversity_df.head()"
   ]
  },
  {
   "cell_type": "code",
   "execution_count": 5,
   "metadata": {
    "scrolled": true
   },
   "outputs": [
    {
     "data": {
      "text/plain": [
       "array([nan, 'Species of Concern', 'Threatened', 'Endangered',\n",
       "       'In Recovery'], dtype=object)"
      ]
     },
     "execution_count": 5,
     "metadata": {},
     "output_type": "execute_result"
    }
   ],
   "source": [
    "biodiversity_df['conservation_status'].unique()"
   ]
  },
  {
   "cell_type": "code",
   "execution_count": 6,
   "metadata": {},
   "outputs": [
    {
     "data": {
      "text/html": [
       "<div>\n",
       "<style scoped>\n",
       "    .dataframe tbody tr th:only-of-type {\n",
       "        vertical-align: middle;\n",
       "    }\n",
       "\n",
       "    .dataframe tbody tr th {\n",
       "        vertical-align: top;\n",
       "    }\n",
       "\n",
       "    .dataframe thead th {\n",
       "        text-align: right;\n",
       "    }\n",
       "</style>\n",
       "<table border=\"1\" class=\"dataframe\">\n",
       "  <thead>\n",
       "    <tr style=\"text-align: right;\">\n",
       "      <th></th>\n",
       "      <th>scientific_name</th>\n",
       "      <th>park_name</th>\n",
       "      <th>observations</th>\n",
       "      <th>category</th>\n",
       "      <th>common_names</th>\n",
       "      <th>conservation_status</th>\n",
       "    </tr>\n",
       "  </thead>\n",
       "  <tbody>\n",
       "    <tr>\n",
       "      <th>0</th>\n",
       "      <td>Vicia benghalensis</td>\n",
       "      <td>Great Smoky Mountains National Park</td>\n",
       "      <td>68</td>\n",
       "      <td>Vascular Plant</td>\n",
       "      <td>Purple Vetch, Reddish Tufted Vetch</td>\n",
       "      <td>Not Endangered</td>\n",
       "    </tr>\n",
       "    <tr>\n",
       "      <th>1</th>\n",
       "      <td>Vicia benghalensis</td>\n",
       "      <td>Yosemite National Park</td>\n",
       "      <td>148</td>\n",
       "      <td>Vascular Plant</td>\n",
       "      <td>Purple Vetch, Reddish Tufted Vetch</td>\n",
       "      <td>Not Endangered</td>\n",
       "    </tr>\n",
       "    <tr>\n",
       "      <th>2</th>\n",
       "      <td>Vicia benghalensis</td>\n",
       "      <td>Yellowstone National Park</td>\n",
       "      <td>247</td>\n",
       "      <td>Vascular Plant</td>\n",
       "      <td>Purple Vetch, Reddish Tufted Vetch</td>\n",
       "      <td>Not Endangered</td>\n",
       "    </tr>\n",
       "    <tr>\n",
       "      <th>3</th>\n",
       "      <td>Vicia benghalensis</td>\n",
       "      <td>Bryce National Park</td>\n",
       "      <td>104</td>\n",
       "      <td>Vascular Plant</td>\n",
       "      <td>Purple Vetch, Reddish Tufted Vetch</td>\n",
       "      <td>Not Endangered</td>\n",
       "    </tr>\n",
       "    <tr>\n",
       "      <th>4</th>\n",
       "      <td>Neovison vison</td>\n",
       "      <td>Great Smoky Mountains National Park</td>\n",
       "      <td>77</td>\n",
       "      <td>Mammal</td>\n",
       "      <td>American Mink</td>\n",
       "      <td>Not Endangered</td>\n",
       "    </tr>\n",
       "  </tbody>\n",
       "</table>\n",
       "</div>"
      ],
      "text/plain": [
       "      scientific_name                            park_name  observations  \\\n",
       "0  Vicia benghalensis  Great Smoky Mountains National Park            68   \n",
       "1  Vicia benghalensis               Yosemite National Park           148   \n",
       "2  Vicia benghalensis            Yellowstone National Park           247   \n",
       "3  Vicia benghalensis                  Bryce National Park           104   \n",
       "4      Neovison vison  Great Smoky Mountains National Park            77   \n",
       "\n",
       "         category                        common_names conservation_status  \n",
       "0  Vascular Plant  Purple Vetch, Reddish Tufted Vetch      Not Endangered  \n",
       "1  Vascular Plant  Purple Vetch, Reddish Tufted Vetch      Not Endangered  \n",
       "2  Vascular Plant  Purple Vetch, Reddish Tufted Vetch      Not Endangered  \n",
       "3  Vascular Plant  Purple Vetch, Reddish Tufted Vetch      Not Endangered  \n",
       "4          Mammal                       American Mink      Not Endangered  "
      ]
     },
     "execution_count": 6,
     "metadata": {},
     "output_type": "execute_result"
    }
   ],
   "source": [
    "biodiversity_df['conservation_status'].fillna('Not Endangered', inplace=True)\n",
    "\n",
    "biodiversity_df.head()"
   ]
  },
  {
   "cell_type": "code",
   "execution_count": 7,
   "metadata": {},
   "outputs": [
    {
     "data": {
      "text/plain": [
       "array(['Great Smoky Mountains National Park', 'Yosemite National Park',\n",
       "       'Yellowstone National Park', 'Bryce National Park'], dtype=object)"
      ]
     },
     "execution_count": 7,
     "metadata": {},
     "output_type": "execute_result"
    }
   ],
   "source": [
    "biodiversity_df['park_name'].unique()"
   ]
  },
  {
   "cell_type": "code",
   "execution_count": 8,
   "metadata": {
    "scrolled": true
   },
   "outputs": [
    {
     "name": "stdout",
     "output_type": "stream",
     "text": [
      "['amphibian', 'bird', 'fish', 'mammal', 'nonvascular plant', 'reptile', 'vascular plant']\n"
     ]
    }
   ],
   "source": [
    "categories = biodiversity_df['category'].unique()\n",
    "categories = [x.lower() for x in categories]\n",
    "categories.sort()\n",
    "print(categories)"
   ]
  },
  {
   "cell_type": "code",
   "execution_count": 9,
   "metadata": {},
   "outputs": [],
   "source": [
    "#Zotko, M. (2019, October 23). make new dataframes from grouped dataframe automatically [web log]. https://stackoverflow.com/questions/58517606/make-new-dataframes-from-grouped-dataframe-automatically. \n",
    "category_groups = dict(biodiversity_df.groupby('category').__iter__())\n",
    "amphibian, bird, fish, mammal, nonvascular_plant, reptile, vascular_plant = category_groups.values()\n",
    "category_df_list = [amphibian, bird, fish, mammal, nonvascular_plant, reptile, vascular_plant]"
   ]
  },
  {
   "cell_type": "markdown",
   "metadata": {},
   "source": [
    "# How many species from each category are considered endangered?"
   ]
  },
  {
   "cell_type": "code",
   "execution_count": 10,
   "metadata": {},
   "outputs": [],
   "source": [
    "def group_by_endangered(list_of_df):\n",
    "    endangered_counts = []\n",
    "    for df in list_of_df:\n",
    "        a = df.groupby('conservation_status')\n",
    "        b = a['scientific_name']\n",
    "        if 'Endangered' in b.groups:\n",
    "            c = b.count()['Endangered']\n",
    "        else:\n",
    "            c = 0\n",
    "        endangered_counts.append(c)\n",
    "    return endangered_counts"
   ]
  },
  {
   "cell_type": "code",
   "execution_count": 11,
   "metadata": {},
   "outputs": [],
   "source": [
    "category_df_list = [amphibian, bird, fish, mammal, nonvascular_plant, reptile, vascular_plant]\n",
    "endangered_count = group_by_endangered(category_df_list)"
   ]
  },
  {
   "cell_type": "code",
   "execution_count": 12,
   "metadata": {},
   "outputs": [],
   "source": [
    "categories = ['amphibian', 'bird', 'fish', 'mammal', 'nonvascular plant', 'reptile', 'vascular plant']\n",
    "\n",
    "species_counts = []\n",
    "\n",
    "for category in category_df_list:\n",
    "    species_count = len(category['scientific_name'].unique())\n",
    "    species_counts.append(species_count)\n",
    "\n",
    "for i in range(len(species_counts)):\n",
    "    species_counts[i] = species_counts[i] - endangered_count[i]\n",
    "    \n",
    "endangered_by_species = list(zip(species_counts, endangered_count))"
   ]
  },
  {
   "cell_type": "code",
   "execution_count": 13,
   "metadata": {},
   "outputs": [
    {
     "data": {
      "image/png": "[encoded data removed]",
      "text/plain": [
       "<Figure size 432x288 with 1 Axes>"
      ]
     },
     "metadata": {},
     "output_type": "display_data"
    },
    {
     "data": {
      "image/png": "[encoded data removed]",
      "text/plain": [
       "<Figure size 432x288 with 1 Axes>"
      ]
     },
     "metadata": {},
     "output_type": "display_data"
    },
    {
     "data": {
      "image/png": "[encoded data removed]",
      "text/plain": [
       "<Figure size 432x288 with 1 Axes>"
      ]
     },
     "metadata": {},
     "output_type": "display_data"
    },
    {
     "data": {
      "image/png": "[encoded data removed]",
      "text/plain": [
       "<Figure size 432x288 with 1 Axes>"
      ]
     },
     "metadata": {},
     "output_type": "display_data"
    },
    {
     "data": {
      "image/png": "[encoded data removed]",
      "text/plain": [
       "<Figure size 432x288 with 1 Axes>"
      ]
     },
     "metadata": {},
     "output_type": "display_data"
    },
    {
     "data": {
      "image/png": "[encoded data removed]",
      "text/plain": [
       "<Figure size 432x288 with 1 Axes>"
      ]
     },
     "metadata": {},
     "output_type": "display_data"
    },
    {
     "data": {
      "image/png": "[encoded data removed]",
      "text/plain": [
       "<Figure size 432x288 with 1 Axes>"
      ]
     },
     "metadata": {},
     "output_type": "display_data"
    }
   ],
   "source": [
    "colors = ['#db00ae', '#00db9b']\n",
    "for i in range(len(endangered_by_species)):\n",
    "    plt.pie(endangered_by_species[i], colors=colors, labels=[f'Non-Endangered Species ({endangered_by_species[i][0]})', f'Endangered Species ({endangered_by_species[i][1]})'])\n",
    "    plt.title(categories[i].title())\n",
    "    plt.savefig(f\"Images/endangered_species_by_category_{i}.png\", bbox_inches=\"tight\")\n",
    "    plt.show()"
   ]
  },
  {
   "cell_type": "code",
   "execution_count": 14,
   "metadata": {},
   "outputs": [
    {
     "data": {
      "image/png": "[encoded data removed]",
      "text/plain": [
       "<Figure size 432x288 with 1 Axes>"
      ]
     },
     "metadata": {
      "needs_background": "light"
     },
     "output_type": "display_data"
    }
   ],
   "source": [
    "x_axis = np.arange(len(categories))\n",
    "plt.bar(x_axis, endangered_count, color='#8ffa5f', alpha=0.5, align=\"center\")\n",
    "\n",
    "for i in range(len(endangered_count)):\n",
    "    plt.annotate(str(endangered_count[i]), xy=(x_axis[i],endangered_count[i]), ha='center', va='bottom')\n",
    "plt.ylim(0, max(endangered_count)+5)\n",
    "tick_locations = [value for value in x_axis]\n",
    "plt.xticks(tick_locations, categories, rotation=30)\n",
    "plt.title(\"Endangered Species by Category (As Seen in Four USA National Parks)\")\n",
    "plt.xlabel(\"Category\")\n",
    "plt.ylabel(\"Number of Endangered Species\")\n",
    "\n",
    "plt.tight_layout()\n",
    "plt.savefig(\"Images/num_endangered_species_by_category.png\", bbox_inches=\"tight\")\n",
    "\n",
    "plt.show()"
   ]
  },
  {
   "cell_type": "markdown",
   "metadata": {},
   "source": [
    "# What is the most common species from each sub-category of plant/animal? "
   ]
  },
  {
   "cell_type": "code",
   "execution_count": 15,
   "metadata": {},
   "outputs": [],
   "source": [
    "def common_species(list_of_df):\n",
    "    most_common_species = []\n",
    "    for df in list_of_df:\n",
    "        species = df.drop_duplicates(subset=['scientific_name', 'park_name', 'observations'], keep='first', inplace=False)\n",
    "        df_groups = species.groupby('scientific_name')\n",
    "        df_obvs = df_groups.sum('observations').sort_values('observations', ascending=False)\n",
    "        top_df_count = df_obvs.iloc[0]\n",
    "        top_df = df_groups.get_group(top_df_count.name)\n",
    "        top_df.drop(['park_name', 'observations'], axis=1, inplace=True)\n",
    "        df_species = top_df.iloc[0]\n",
    "        df_species['total_observations'] = top_df_count.values[0]\n",
    "        most_common_species.append(df_species)\n",
    "    return most_common_species"
   ]
  },
  {
   "cell_type": "code",
   "execution_count": 16,
   "metadata": {},
   "outputs": [
    {
     "name": "stderr",
     "output_type": "stream",
     "text": [
      "C:\\Users\\Kaylie\\anaconda3\\lib\\site-packages\\pandas\\core\\frame.py:4308: SettingWithCopyWarning: \n",
      "A value is trying to be set on a copy of a slice from a DataFrame\n",
      "\n",
      "See the caveats in the documentation: https://pandas.pydata.org/pandas-docs/stable/user_guide/indexing.html#returning-a-view-versus-a-copy\n",
      "  return super().drop(\n"
     ]
    }
   ],
   "source": [
    "category_df_list = [amphibian, bird, fish, mammal, nonvascular_plant, reptile, vascular_plant]\n",
    "most_common_species = common_species(category_df_list)"
   ]
  },
  {
   "cell_type": "code",
   "execution_count": 17,
   "metadata": {},
   "outputs": [
    {
     "data": {
      "text/html": [
       "<div>\n",
       "<style scoped>\n",
       "    .dataframe tbody tr th:only-of-type {\n",
       "        vertical-align: middle;\n",
       "    }\n",
       "\n",
       "    .dataframe tbody tr th {\n",
       "        vertical-align: top;\n",
       "    }\n",
       "\n",
       "    .dataframe thead th {\n",
       "        text-align: right;\n",
       "    }\n",
       "</style>\n",
       "<table border=\"1\" class=\"dataframe\">\n",
       "  <thead>\n",
       "    <tr style=\"text-align: right;\">\n",
       "      <th></th>\n",
       "      <th>index</th>\n",
       "      <th>scientific_name</th>\n",
       "      <th>category</th>\n",
       "      <th>common_names</th>\n",
       "      <th>conservation_status</th>\n",
       "      <th>total_observations</th>\n",
       "    </tr>\n",
       "  </thead>\n",
       "  <tbody>\n",
       "    <tr>\n",
       "      <th>0</th>\n",
       "      <td>3380</td>\n",
       "      <td>Rana catesbeiana</td>\n",
       "      <td>Amphibian</td>\n",
       "      <td>American Bullfrog</td>\n",
       "      <td>Not Endangered</td>\n",
       "      <td>1097</td>\n",
       "    </tr>\n",
       "    <tr>\n",
       "      <th>1</th>\n",
       "      <td>8240</td>\n",
       "      <td>Columba livia</td>\n",
       "      <td>Bird</td>\n",
       "      <td>Rock Dove</td>\n",
       "      <td>Not Endangered</td>\n",
       "      <td>1653</td>\n",
       "    </tr>\n",
       "    <tr>\n",
       "      <th>2</th>\n",
       "      <td>10268</td>\n",
       "      <td>Salvelinus fontinalis</td>\n",
       "      <td>Fish</td>\n",
       "      <td>Brook Trout</td>\n",
       "      <td>Not Endangered</td>\n",
       "      <td>1270</td>\n",
       "    </tr>\n",
       "    <tr>\n",
       "      <th>3</th>\n",
       "      <td>4640</td>\n",
       "      <td>Castor canadensis</td>\n",
       "      <td>Mammal</td>\n",
       "      <td>American Beaver, Beaver</td>\n",
       "      <td>Not Endangered</td>\n",
       "      <td>1725</td>\n",
       "    </tr>\n",
       "    <tr>\n",
       "      <th>4</th>\n",
       "      <td>3120</td>\n",
       "      <td>Ulota crispa</td>\n",
       "      <td>Nonvascular Plant</td>\n",
       "      <td>Ulota Moss</td>\n",
       "      <td>Not Endangered</td>\n",
       "      <td>679</td>\n",
       "    </tr>\n",
       "    <tr>\n",
       "      <th>5</th>\n",
       "      <td>2892</td>\n",
       "      <td>Charina bottae</td>\n",
       "      <td>Reptile</td>\n",
       "      <td>Rubber Boa</td>\n",
       "      <td>Not Endangered</td>\n",
       "      <td>1144</td>\n",
       "    </tr>\n",
       "    <tr>\n",
       "      <th>6</th>\n",
       "      <td>13352</td>\n",
       "      <td>Holcus lanatus</td>\n",
       "      <td>Vascular Plant</td>\n",
       "      <td>Common Velvet Grass, Velvetgrass</td>\n",
       "      <td>Not Endangered</td>\n",
       "      <td>1780</td>\n",
       "    </tr>\n",
       "  </tbody>\n",
       "</table>\n",
       "</div>"
      ],
      "text/plain": [
       "   index        scientific_name           category  \\\n",
       "0   3380       Rana catesbeiana          Amphibian   \n",
       "1   8240          Columba livia               Bird   \n",
       "2  10268  Salvelinus fontinalis               Fish   \n",
       "3   4640      Castor canadensis             Mammal   \n",
       "4   3120           Ulota crispa  Nonvascular Plant   \n",
       "5   2892         Charina bottae            Reptile   \n",
       "6  13352         Holcus lanatus     Vascular Plant   \n",
       "\n",
       "                       common_names conservation_status  total_observations  \n",
       "0                 American Bullfrog      Not Endangered                1097  \n",
       "1                         Rock Dove      Not Endangered                1653  \n",
       "2                       Brook Trout      Not Endangered                1270  \n",
       "3           American Beaver, Beaver      Not Endangered                1725  \n",
       "4                        Ulota Moss      Not Endangered                 679  \n",
       "5                        Rubber Boa      Not Endangered                1144  \n",
       "6  Common Velvet Grass, Velvetgrass      Not Endangered                1780  "
      ]
     },
     "execution_count": 17,
     "metadata": {},
     "output_type": "execute_result"
    }
   ],
   "source": [
    "most_common_species_df = pd.DataFrame(most_common_species)\n",
    "most_common_species_df.reset_index(inplace=True)\n",
    "most_common_species_df"
   ]
  },
  {
   "cell_type": "code",
   "execution_count": 18,
   "metadata": {},
   "outputs": [
    {
     "data": {
      "image/png": "[encoded data removed]",
      "text/plain": [
       "<Figure size 432x288 with 1 Axes>"
      ]
     },
     "metadata": {
      "needs_background": "light"
     },
     "output_type": "display_data"
    }
   ],
   "source": [
    "x_axis = np.arange(len(category_df_list))\n",
    "y_axis = most_common_species_df['total_observations']\n",
    "plt.bar(x_axis, y_axis, color='#800080', alpha=0.5, align=\"center\")\n",
    "\n",
    "for i in range(len(y_axis)):\n",
    "    plt.annotate(str(categories[i]), xy=(x_axis[i],y_axis[i]), ha='center', va='bottom')\n",
    "    plt.annotate(str(y_axis[i]), xy=(x_axis[i],y_axis[i]), ha='center', va='top')\n",
    "plt.ylim(0, max(y_axis)+275)\n",
    "tick_locations = [value for value in x_axis]\n",
    "plt.xticks(tick_locations, most_common_species_df['common_names'], rotation=-90)\n",
    "plt.title(\"Most Common Species by Category (As Seen in Four USA National Parks)\")\n",
    "plt.xlabel(\"Category\")\n",
    "\n",
    "\n",
    "plt.savefig(\"Images/common_species_by_category.png\", bbox_inches=\"tight\")\n",
    "\n",
    "plt.show()"
   ]
  },
  {
   "cell_type": "markdown",
   "metadata": {},
   "source": [
    "# Which park has the most unique species?"
   ]
  },
  {
   "cell_type": "code",
   "execution_count": 19,
   "metadata": {},
   "outputs": [],
   "source": [
    "park_groups = biodiversity_df.groupby('park_name')\n",
    "smoky_mountains = park_groups.get_group('Great Smoky Mountains National Park')\n",
    "yosemite = park_groups.get_group('Yosemite National Park')\n",
    "yellowstone = park_groups.get_group('Yellowstone National Park')\n",
    "bryce = park_groups.get_group('Bryce National Park')\n",
    "parks = [smoky_mountains, yosemite, yellowstone, bryce]"
   ]
  },
  {
   "cell_type": "code",
   "execution_count": 20,
   "metadata": {},
   "outputs": [
    {
     "name": "stdout",
     "output_type": "stream",
     "text": [
      "{'Amphibian': 80, 'Bird': 521, 'Fish': 127, 'Mammal': 214, 'Nonvascular Plant': 333, 'Reptile': 79, 'Vascular Plant': 4469}\n"
     ]
    }
   ],
   "source": [
    "non_zeroes = bryce[(bryce['observations'] != 0)].drop_duplicates(subset=['scientific_name', 'park_name', 'observations'], keep='first', inplace=False)\n",
    "categories = non_zeroes.groupby('category')\n",
    "\n",
    "lengths = {}\n",
    "i = 0\n",
    "\n",
    "for name, group in categories:\n",
    "    unique_names = group['scientific_name'].unique()\n",
    "    num_of_unique_species = len(group)\n",
    "    lengths[name] = num_of_unique_species\n",
    "    i += 1\n",
    "\n",
    "print(lengths)"
   ]
  },
  {
   "cell_type": "code",
   "execution_count": 21,
   "metadata": {},
   "outputs": [],
   "source": [
    "def unique_by_park_by_category(df):\n",
    "    non_zeroes = df[(df['observations'] != 0)].drop_duplicates(subset=['scientific_name', 'park_name', 'observations'], keep='first', inplace=False)\n",
    "    categories = non_zeroes.groupby('category')\n",
    "\n",
    "    lengths = {}\n",
    "    i = 0\n",
    "\n",
    "    for name, group in categories:\n",
    "        unique_names = group['scientific_name'].unique()\n",
    "        num_of_unique_species = len(group)\n",
    "        lengths[name] = num_of_unique_species\n",
    "        i += 1\n",
    "\n",
    "    return lengths"
   ]
  },
  {
   "cell_type": "code",
   "execution_count": 22,
   "metadata": {},
   "outputs": [],
   "source": [
    "parks_and_categories = []\n",
    "park_names = ['Great Smoky Mountains National Park', 'Yosemite National Park',\n",
    "       'Yellowstone National Park', 'Bryce National Park']\n",
    "i = 0\n",
    "for park in parks:\n",
    "    unique_species = unique_by_park_by_category(park)\n",
    "    parks_and_categories.append(unique_species)"
   ]
  },
  {
   "cell_type": "code",
   "execution_count": 23,
   "metadata": {},
   "outputs": [
    {
     "data": {
      "text/html": [
       "<div>\n",
       "<style scoped>\n",
       "    .dataframe tbody tr th:only-of-type {\n",
       "        vertical-align: middle;\n",
       "    }\n",
       "\n",
       "    .dataframe tbody tr th {\n",
       "        vertical-align: top;\n",
       "    }\n",
       "\n",
       "    .dataframe thead th {\n",
       "        text-align: right;\n",
       "    }\n",
       "</style>\n",
       "<table border=\"1\" class=\"dataframe\">\n",
       "  <thead>\n",
       "    <tr style=\"text-align: right;\">\n",
       "      <th></th>\n",
       "      <th>Park Names</th>\n",
       "      <th>Amphibian</th>\n",
       "      <th>Bird</th>\n",
       "      <th>Fish</th>\n",
       "      <th>Mammal</th>\n",
       "      <th>Nonvascular Plant</th>\n",
       "      <th>Reptile</th>\n",
       "      <th>Vascular Plant</th>\n",
       "    </tr>\n",
       "  </thead>\n",
       "  <tbody>\n",
       "    <tr>\n",
       "      <th>0</th>\n",
       "      <td>Great Smoky Mountains National Park</td>\n",
       "      <td>80</td>\n",
       "      <td>521</td>\n",
       "      <td>127</td>\n",
       "      <td>214</td>\n",
       "      <td>333</td>\n",
       "      <td>79</td>\n",
       "      <td>4464</td>\n",
       "    </tr>\n",
       "    <tr>\n",
       "      <th>1</th>\n",
       "      <td>Yosemite National Park</td>\n",
       "      <td>80</td>\n",
       "      <td>521</td>\n",
       "      <td>127</td>\n",
       "      <td>214</td>\n",
       "      <td>333</td>\n",
       "      <td>79</td>\n",
       "      <td>4467</td>\n",
       "    </tr>\n",
       "    <tr>\n",
       "      <th>2</th>\n",
       "      <td>Yellowstone National Park</td>\n",
       "      <td>80</td>\n",
       "      <td>520</td>\n",
       "      <td>127</td>\n",
       "      <td>213</td>\n",
       "      <td>333</td>\n",
       "      <td>79</td>\n",
       "      <td>4467</td>\n",
       "    </tr>\n",
       "    <tr>\n",
       "      <th>3</th>\n",
       "      <td>Bryce National Park</td>\n",
       "      <td>80</td>\n",
       "      <td>521</td>\n",
       "      <td>127</td>\n",
       "      <td>214</td>\n",
       "      <td>333</td>\n",
       "      <td>79</td>\n",
       "      <td>4469</td>\n",
       "    </tr>\n",
       "  </tbody>\n",
       "</table>\n",
       "</div>"
      ],
      "text/plain": [
       "                            Park Names  Amphibian  Bird  Fish  Mammal  \\\n",
       "0  Great Smoky Mountains National Park         80   521   127     214   \n",
       "1               Yosemite National Park         80   521   127     214   \n",
       "2            Yellowstone National Park         80   520   127     213   \n",
       "3                  Bryce National Park         80   521   127     214   \n",
       "\n",
       "   Nonvascular Plant  Reptile  Vascular Plant  \n",
       "0                333       79            4464  \n",
       "1                333       79            4467  \n",
       "2                333       79            4467  \n",
       "3                333       79            4469  "
      ]
     },
     "execution_count": 23,
     "metadata": {},
     "output_type": "execute_result"
    }
   ],
   "source": [
    "parks_and_categories_df = pd.DataFrame(parks_and_categories, index=park_names)\n",
    "parks_and_categories_df.index.rename('Park Names', inplace=True)\n",
    "parks_and_categories_df.reset_index(inplace=True)\n",
    "parks_and_categories_df"
   ]
  },
  {
   "cell_type": "code",
   "execution_count": 24,
   "metadata": {
    "scrolled": true
   },
   "outputs": [
    {
     "data": {
      "image/png": "[encoded data removed]",
      "text/plain": [
       "<Figure size 432x288 with 1 Axes>"
      ]
     },
     "metadata": {
      "needs_background": "light"
     },
     "output_type": "display_data"
    }
   ],
   "source": [
    "parks_and_categories_df.plot(x='Park Names',\n",
    "                             kind='bar',\n",
    "                             stacked=False,\n",
    "                             title='Unique Species By Park',\n",
    "                             ylabel='Unique Species Count' )\n",
    "\n",
    "plt.savefig(\"Images/unique_species_by_park.png\", bbox_inches=\"tight\")"
   ]
  },
  {
   "cell_type": "markdown",
   "metadata": {},
   "source": [
    "# Conclusions"
   ]
  },
  {
   "cell_type": "markdown",
   "metadata": {},
   "source": [
    "-How many species from each category are considered endangered? "
   ]
  },
  {
   "cell_type": "markdown",
   "metadata": {},
   "source": [
    "Of the species observed in all the parks, 4 amphibian species, 16 bird species, 12 fish species, 44 mammal species, and 4 vascular plant species are considered endangered. None of the observed reptile or non-vascular plant species are considered endangered. Looking at the pie charts comparing the number of non-endangered species to endangered species, mammals are the category of species that have the most endangered species, both in pure numbers and percentage."
   ]
  },
  {
   "cell_type": "markdown",
   "metadata": {},
   "source": [
    "-What is the most common species from each sub-category of plant/animal? "
   ]
  },
  {
   "cell_type": "markdown",
   "metadata": {},
   "source": [
    "The most common amphibian is the American Bullfrog, spotted 1097 times across the four parks. The most common bird is the Rock Dove, spotted 1653 times across the four parks. The most common fish is the Brook Trout, spotted 1270 times across the four parks. The most common mammal is the American Beaver, spotted 1725 times across the four parks. The most common non-vascular plant is the Ulota Moss, spotted 679 times across the four parks. The most common reptile is the Rubber Boa, spotted 1144 times across the four parks. The most common vascular plant is the Common Velvet Grass, spoetted 1780 times across the four parks. Of these species, the Common Velvet Grass was spotted the most often, making it the most spotted species overall."
   ]
  },
  {
   "cell_type": "markdown",
   "metadata": {},
   "source": [
    "-Which park has the most unique species?"
   ]
  },
  {
   "cell_type": "markdown",
   "metadata": {},
   "source": [
    "Bryce National Park had the most unique species. While all the parks were very close in numbers, Bryce had the most vascular plant species and was tied for the most bird and mammal species. THe four parks looked at were scattered across the United States, so location isn't a factor in species diversity."
   ]
  }
 ],
 "metadata": {
  "kernelspec": {
   "display_name": "Python 3",
   "language": "python",
   "name": "python3"
  },
  "language_info": {
   "codemirror_mode": {
    "name": "ipython",
    "version": 3
   },
   "file_extension": ".py",
   "mimetype": "text/x-python",
   "name": "python",
   "nbconvert_exporter": "python",
   "pygments_lexer": "ipython3",
   "version": "3.8.8"
  }
 },
 "nbformat": 4,
 "nbformat_minor": 4
}
